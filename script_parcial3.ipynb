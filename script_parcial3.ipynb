{
  "nbformat": 4,
  "nbformat_minor": 0,
  "metadata": {
    "colab": {
      "provenance": [],
      "authorship_tag": "ABX9TyOCNR2elAXUbnzE3b726paR",
      "include_colab_link": true
    },
    "kernelspec": {
      "name": "python3",
      "display_name": "Python 3"
    },
    "language_info": {
      "name": "python"
    }
  },
  "cells": [
    {
      "cell_type": "markdown",
      "metadata": {
        "id": "view-in-github",
        "colab_type": "text"
      },
      "source": [
        "<a href=\"https://colab.research.google.com/github/DavidS256/Parciales/blob/main/script_parcial3.ipynb\" target=\"_parent\"><img src=\"https://colab.research.google.com/assets/colab-badge.svg\" alt=\"Open In Colab\"/></a>"
      ]
    },
    {
      "cell_type": "markdown",
      "source": [
        "# **Universidad de los Andes**\n",
        "\n",
        "HE2 IA aplicada a la economía\n",
        "\n",
        "Parcial 3\n",
        "\n",
        "**Integrantes:**\n",
        "*   Marcelo Yepes\n",
        "*   Juan Diego Barrios\n",
        "*   David Sandino\n",
        "*   Loek Kleyn\n"
      ],
      "metadata": {
        "id": "GEnT64MiclSV"
      }
    },
    {
      "cell_type": "code",
      "execution_count": null,
      "metadata": {
        "id": "wPN_5xVLcLqN"
      },
      "outputs": [],
      "source": []
    }
  ]
}